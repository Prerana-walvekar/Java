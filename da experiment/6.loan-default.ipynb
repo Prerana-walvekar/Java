{
 "cells": [
  {
   "cell_type": "markdown",
   "metadata": {},
   "source": [
    "1. Import the important python liabraries:"
   ]
  },
  {
   "cell_type": "code",
   "execution_count": null,
   "metadata": {},
   "outputs": [],
   "source": [
    "import numpy as np\n",
    "import pandas as pd\n",
    "import matplotlib.pyplot as plt\n",
    "%matplotlib inline\n",
    "import seaborn as sns\n",
    "import warnings\n",
    "warnings.filterwarnings('ignore') "
   ]
  },
  {
   "cell_type": "markdown",
   "metadata": {},
   "source": [
    "### Importing & Loading the dataset"
   ]
  },
  {
   "cell_type": "markdown",
   "metadata": {},
   "source": [
    "2. Create a dataframe to read (first 5 rows) and hold the data:"
   ]
  },
  {
   "cell_type": "code",
   "execution_count": null,
   "metadata": {},
   "outputs": [],
   "source": [
    "df = pd.read_csv('Dataset.csv')\n",
    "df.head()"
   ]
  },
  {
   "cell_type": "markdown",
   "metadata": {},
   "source": [
    "### Dataset Info:"
   ]
  },
  {
   "cell_type": "markdown",
   "metadata": {},
   "source": [
    "3. A summary function to give a structured overview of the above dataframe:"
   ]
  },
  {
   "cell_type": "code",
   "execution_count": null,
   "metadata": {},
   "outputs": [],
   "source": [
    "df.info()"
   ]
  },
  {
   "cell_type": "markdown",
   "metadata": {},
   "source": [
    "### Dataset Shape:"
   ]
  },
  {
   "cell_type": "markdown",
   "metadata": {},
   "source": [
    "4. An attribute to return the dimensions of your dataframe(number of rows and number of columns):"
   ]
  },
  {
   "cell_type": "code",
   "execution_count": null,
   "metadata": {},
   "outputs": [],
   "source": [
    "df.shape"
   ]
  },
  {
   "cell_type": "markdown",
   "metadata": {},
   "source": [
    "### Checking the Missing Values"
   ]
  },
  {
   "cell_type": "markdown",
   "metadata": {},
   "source": [
    "5. A function to check the entire dataframe for missing values and returns a dataframe of same shape:"
   ]
  },
  {
   "cell_type": "code",
   "execution_count": null,
   "metadata": {},
   "outputs": [],
   "source": [
    "df.isnull().sum()"
   ]
  },
  {
   "cell_type": "markdown",
   "metadata": {},
   "source": [
    "#### First we will fill the Missing Values in \"LoanAmount\" & \"Credit_History\" by the 'Mean' & 'Median' of the respective variables."
   ]
  },
  {
   "cell_type": "markdown",
   "metadata": {},
   "source": [
    "6. A function to replace the missing values(NaN) in numeric column(LoanAmount,Credit_History) with the mean of that column:"
   ]
  },
  {
   "cell_type": "code",
   "execution_count": null,
   "metadata": {},
   "outputs": [],
   "source": [
    "df['LoanAmount'] = df['LoanAmount'].fillna(df['LoanAmount'].mean())"
   ]
  },
  {
   "cell_type": "code",
   "execution_count": null,
   "metadata": {},
   "outputs": [],
   "source": [
    "df['Credit_History'] = df['Credit_History'].fillna(df['Credit_History'].median())"
   ]
  },
  {
   "cell_type": "markdown",
   "metadata": {},
   "source": [
    "### Let's confirm if there are any missing values in 'LoanAmount' & 'Credit_History'"
   ]
  },
  {
   "cell_type": "markdown",
   "metadata": {},
   "source": [
    "7. A function to check the new dataframe for missing values and returns a dataframe of same shape:"
   ]
  },
  {
   "cell_type": "code",
   "execution_count": null,
   "metadata": {},
   "outputs": [],
   "source": [
    "df.isnull().sum()"
   ]
  },
  {
   "cell_type": "markdown",
   "metadata": {},
   "source": [
    "### Now, Let's drop all the missing values remaining."
   ]
  },
  {
   "cell_type": "markdown",
   "metadata": {},
   "source": [
    "8. A function to drop the rows in the dataframe containing at least one missing(NaN) value:"
   ]
  },
  {
   "cell_type": "code",
   "execution_count": null,
   "metadata": {},
   "outputs": [],
   "source": [
    "df.dropna(inplace=True)"
   ]
  },
  {
   "cell_type": "markdown",
   "metadata": {},
   "source": [
    "### Let's check the Missing values for the final time!"
   ]
  },
  {
   "cell_type": "markdown",
   "metadata": {},
   "source": [
    "9. A function to check the dataframe after dropping missing values and returns a dataframe of same shape(expected to return 0 for all columns):"
   ]
  },
  {
   "cell_type": "code",
   "execution_count": null,
   "metadata": {},
   "outputs": [],
   "source": [
    "df.isnull().sum()"
   ]
  },
  {
   "cell_type": "markdown",
   "metadata": {},
   "source": [
    "### Now, Let's check the final Dataset Shape"
   ]
  },
  {
   "cell_type": "markdown",
   "metadata": {},
   "source": [
    "10. An attribute to return the dimensions of your dataframe(number of rows and number of columns):"
   ]
  },
  {
   "cell_type": "code",
   "execution_count": null,
   "metadata": {},
   "outputs": [],
   "source": [
    "df.shape"
   ]
  },
  {
   "cell_type": "markdown",
   "metadata": {},
   "source": [
    "#### Comparison between Parameters in getting the Loan:"
   ]
  },
  {
   "cell_type": "markdown",
   "metadata": {},
   "source": [
    "11. Creates a series of count plots to visualize how different categorical features relate to loan status:"
   ]
  },
  {
   "cell_type": "code",
   "execution_count": null,
   "metadata": {},
   "outputs": [],
   "source": [
    "import matplotlib.pyplot as plt\n",
    "import seaborn as sns\n",
    "\n",
    "# Data Cleaning(Ensure no missing values in categorical columns before plotting)\n",
    "df.dropna(subset=['Gender', 'Married', 'Education', 'Self_Employed', 'Property_Area', 'Loan_Status'], inplace=True)\n",
    "\n",
    "plt.figure(figsize=(30, 15))  # Adjust figure size\n",
    "sns.set(font_scale=2)  # Adjust font size for readability\n",
    "\n",
    "#Subplot1: Loan status by Gender \n",
    "plt.subplot(231)\n",
    "sns.countplot(x='Gender', hue='Loan_Status', data=df)\n",
    "plt.title('Loan Status by Gender')\n",
    "\n",
    "#Subplot2: Loan status by Marital Status \n",
    "plt.subplot(232)\n",
    "sns.countplot(x='Married', hue='Loan_Status', data=df)\n",
    "plt.title('Loan Status by Marital Status')\n",
    "\n",
    "#Subplot3: Loan status by Education\n",
    "plt.subplot(233)\n",
    "sns.countplot(x='Education', hue='Loan_Status', data=df)\n",
    "plt.title('Loan Status by Education')\n",
    "\n",
    "#Subplot4: Loan status by Employment \n",
    "plt.subplot(234)\n",
    "sns.countplot(x='Self_Employed', hue='Loan_Status', data=df)\n",
    "plt.title('Loan Status by Self Employment')\n",
    "\n",
    "#Subplot5: Loan status by Property Area\n",
    "plt.subplot(235)\n",
    "sns.countplot(x='Property_Area', hue='Loan_Status', data=df)\n",
    "plt.title('Loan Status by Property Area')\n",
    "\n",
    "\n",
    "plt.tight_layout() #layout adjustment\n",
    "plt.show() #display\n"
   ]
  },
  {
   "cell_type": "markdown",
   "metadata": {},
   "source": [
    "### Let's replace the Variable values to Numerical form & display the Value Counts\n",
    "\n",
    "The data in Numerical form avoids disturbances in building the model. "
   ]
  },
  {
   "cell_type": "markdown",
   "metadata": {},
   "source": [
    "12. A function to replace the categorical values(Y and N) in Loan_Status column to numerical values(1 and 0):"
   ]
  },
  {
   "cell_type": "code",
   "execution_count": null,
   "metadata": {},
   "outputs": [],
   "source": [
    "df['Loan_Status'].replace('Y',1,inplace=True)\n",
    "df['Loan_Status'].replace('N',0,inplace=True)"
   ]
  },
  {
   "cell_type": "markdown",
   "metadata": {},
   "source": [
    "13. A function to return the count of the occurence of each unique value(Y and N):"
   ]
  },
  {
   "cell_type": "code",
   "execution_count": null,
   "metadata": {},
   "outputs": [],
   "source": [
    "df['Loan_Status'].value_counts()"
   ]
  },
  {
   "cell_type": "markdown",
   "metadata": {},
   "source": [
    "14. A mapping dictionary to replace each unique categorical value in Gender column to numeric value:"
   ]
  },
  {
   "cell_type": "code",
   "execution_count": null,
   "metadata": {},
   "outputs": [],
   "source": [
    "df.Gender=df.Gender.map({'Male':1,'Female':0})\n",
    "df['Gender'].value_counts()"
   ]
  },
  {
   "cell_type": "markdown",
   "metadata": {},
   "source": [
    "15. A mapping dictionary to replace each unique categorical value in Married column to numeric value:"
   ]
  },
  {
   "cell_type": "code",
   "execution_count": null,
   "metadata": {},
   "outputs": [],
   "source": [
    "df.Married=df.Married.map({'Yes':1,'No':0})\n",
    "df['Married'].value_counts()"
   ]
  },
  {
   "cell_type": "markdown",
   "metadata": {},
   "source": [
    "16. A mapping dictionary to transform each unique value in the Dependents column to numeric value and count the occurence of each unique value:"
   ]
  },
  {
   "cell_type": "code",
   "execution_count": null,
   "metadata": {},
   "outputs": [],
   "source": [
    "df.Dependents=df.Dependents.map({'0':0,'1':1,'2':2,'3+':3})\n",
    "df['Dependents'].value_counts()"
   ]
  },
  {
   "cell_type": "markdown",
   "metadata": {},
   "source": [
    "17. A mapping dictionary to replace each unique categorical value in Education column to numeric value:"
   ]
  },
  {
   "cell_type": "code",
   "execution_count": null,
   "metadata": {},
   "outputs": [],
   "source": [
    "df.Education=df.Education.map({'Graduate':1,'Not Graduate':0})\n",
    "df['Education'].value_counts()"
   ]
  },
  {
   "cell_type": "markdown",
   "metadata": {},
   "source": [
    "18. A mapping dictionary to replace each unique categorical value in Employed column to numeric value:"
   ]
  },
  {
   "cell_type": "code",
   "execution_count": null,
   "metadata": {},
   "outputs": [],
   "source": [
    "df.Self_Employed=df.Self_Employed.map({'Yes':1,'No':0})\n",
    "df['Self_Employed'].value_counts()"
   ]
  },
  {
   "cell_type": "markdown",
   "metadata": {},
   "source": [
    "19. A mapping dictionary to replace each unique categorical value in Property_Area column to numeric value:"
   ]
  },
  {
   "cell_type": "code",
   "execution_count": null,
   "metadata": {},
   "outputs": [],
   "source": [
    "df.Property_Area=df.Property_Area.map({'Urban':2,'Rural':0,'Semiurban':1})\n",
    "df['Property_Area'].value_counts()"
   ]
  },
  {
   "cell_type": "markdown",
   "metadata": {},
   "source": [
    "20. A function to return the count of the occurence of each unique value in the LoanAmount:"
   ]
  },
  {
   "cell_type": "code",
   "execution_count": null,
   "metadata": {},
   "outputs": [],
   "source": [
    "df['LoanAmount'].value_counts()"
   ]
  },
  {
   "cell_type": "markdown",
   "metadata": {},
   "source": [
    "21. A function to return the count of the occurence of each unique value in the Loan_Amount_Term:"
   ]
  },
  {
   "cell_type": "code",
   "execution_count": null,
   "metadata": {},
   "outputs": [],
   "source": [
    "df['Loan_Amount_Term'].value_counts()"
   ]
  },
  {
   "cell_type": "markdown",
   "metadata": {},
   "source": [
    "22. A function to return the count of the occurence of each unique value in the Credit_History:"
   ]
  },
  {
   "cell_type": "code",
   "execution_count": null,
   "metadata": {},
   "outputs": [],
   "source": [
    "df['Credit_History'].value_counts()"
   ]
  },
  {
   "cell_type": "markdown",
   "metadata": {},
   "source": [
    "### Final DataFrame"
   ]
  },
  {
   "cell_type": "markdown",
   "metadata": {},
   "source": [
    "23. A dataframe to read and hold the first 5 rows of the updated dataframe:"
   ]
  },
  {
   "cell_type": "code",
   "execution_count": null,
   "metadata": {},
   "outputs": [],
   "source": [
    "df.head()"
   ]
  },
  {
   "cell_type": "markdown",
   "metadata": {},
   "source": [
    "### Importing Packages for Classification algorithms"
   ]
  },
  {
   "cell_type": "code",
   "execution_count": null,
   "metadata": {},
   "outputs": [],
   "source": [
    "from sklearn.model_selection import train_test_split\n",
    "from sklearn.linear_model import LogisticRegression\n",
    "from sklearn import metrics"
   ]
  },
  {
   "cell_type": "markdown",
   "metadata": {},
   "source": [
    "### Splitting the data into Train and Test set"
   ]
  },
  {
   "cell_type": "code",
   "execution_count": null,
   "metadata": {},
   "outputs": [],
   "source": [
    "X = df.iloc[1:542,1:12].values\n",
    "y = df.iloc[1:542,12].values"
   ]
  },
  {
   "cell_type": "code",
   "execution_count": null,
   "metadata": {},
   "outputs": [],
   "source": [
    "X_train, X_test, y_train, y_test = train_test_split(X, y, test_size=0.3,random_state=0)"
   ]
  },
  {
   "cell_type": "markdown",
   "metadata": {},
   "source": [
    "### Logistic Regression (LR)"
   ]
  },
  {
   "cell_type": "markdown",
   "metadata": {},
   "source": [
    "Logistic regression is a supervised learning classification algorithm used to predict the probability of a target variable. \n",
    "\n",
    "Mathematically, a logistic regression model predicts P(Y=1) as a function of X. It is one of the simplest ML algorithms that can be used for various classification problems such as spam detection, Diabetes prediction, cancer detection etc."
   ]
  },
  {
   "cell_type": "code",
   "execution_count": null,
   "metadata": {},
   "outputs": [],
   "source": [
    "model = LogisticRegression()\n",
    "model.fit(X_train,y_train)\n",
    "\n",
    "lr_prediction = model.predict(X_test)\n",
    "print('Logistic Regression accuracy = ', metrics.accuracy_score(lr_prediction,y_test))"
   ]
  },
  {
   "cell_type": "code",
   "execution_count": null,
   "metadata": {},
   "outputs": [],
   "source": [
    "print(\"y_predicted\",lr_prediction)\n",
    "print(\"y_test\",y_test)"
   ]
  },
  {
   "cell_type": "markdown",
   "metadata": {},
   "source": [
    "**CONCLUSION:**\n",
    "\n",
    "1. The Loan Status is heavily dependent on the Credit History for Predictions.\n",
    "2. The Logistic Regression algorithm gives us the maximum Accuracy (79% approx) compared to the other 3 Machine Learning Classification Algorithms."
   ]
  },
  {
   "cell_type": "markdown",
   "metadata": {},
   "source": [
    "## ✅ Evaluation Metrics"
   ]
  },
  {
   "cell_type": "code",
   "execution_count": null,
   "metadata": {},
   "outputs": [],
   "source": [
    "\n",
    "from sklearn.metrics import classification_report, confusion_matrix, f1_score, accuracy_score\n",
    "\n",
    "# Accuracy\n",
    "accuracy = accuracy_score(y_test, lr_prediction)\n",
    "print(f\"Accuracy: {accuracy:.2f}\")\n",
    "\n",
    "# F1 Score\n",
    "f1 = f1_score(y_test, lr_prediction)\n",
    "print(f\"F1 Score: {f1:.2f}\")\n",
    "\n",
    "# Confusion Matrix\n",
    "cm = confusion_matrix(y_test, lr_prediction)\n",
    "print(\"Confusion Matrix:\\n\", cm)\n",
    "\n",
    "# Classification Report\n",
    "report = classification_report(y_test, lr_prediction)\n",
    "print(\"Classification Report:\\n\", report)\n"
   ]
  },
  {
   "cell_type": "markdown",
   "metadata": {},
   "source": [
    "## 🧩 Predict on New Input"
   ]
  },
  {
   "cell_type": "code",
   "execution_count": null,
   "metadata": {},
   "outputs": [],
   "source": [
    "\n",
    "# Function to take user input and predict\n",
    "def get_user_input():\n",
    "    Gender = input(\"Gender (Male/Female): \")\n",
    "    Married = input(\"Married (Yes/No): \")\n",
    "    Dependents = input(\"Number of Dependents (0/1/2/3+): \")\n",
    "    Education = input(\"Education (Graduate/Not Graduate): \")\n",
    "    Self_Employed = input(\"Self Employed (Yes/No): \")\n",
    "    ApplicantIncome = float(input(\"Applicant Income: \"))\n",
    "    CoapplicantIncome = float(input(\"Coapplicant Income: \"))\n",
    "    LoanAmount = float(input(\"Loan Amount: \"))\n",
    "    Loan_Amount_Term = float(input(\"Loan Amount Term: \"))\n",
    "    Credit_History = float(input(\"Credit History (1.0/0.0): \"))\n",
    "    Property_Area = input(\"Property Area (Urban/Semiurban/Rural): \")\n",
    "\n",
    "    # Create DataFrame\n",
    "    input_data = pd.DataFrame({\n",
    "        'Gender': [Gender],\n",
    "        'Married': [Married],\n",
    "        'Dependents': [Dependents],\n",
    "        'Education': [Education],\n",
    "        'Self_Employed': [Self_Employed],\n",
    "        'ApplicantIncome': [ApplicantIncome],\n",
    "        'CoapplicantIncome': [CoapplicantIncome],\n",
    "        'LoanAmount': [LoanAmount],\n",
    "        'Loan_Amount_Term': [Loan_Amount_Term],\n",
    "        'Credit_History': [Credit_History],\n",
    "        'Property_Area': [Property_Area]\n",
    "    })\n",
    "\n",
    "    # Handle preprocessing same as training\n",
    "    for col in ['Gender', 'Married', 'Dependents', 'Education', 'Self_Employed', 'Property_Area']:\n",
    "        input_data[col].fillna('None', inplace=True)\n",
    "\n",
    "    # Map categorical data if mapping used in training\n",
    "    input_data = pd.get_dummies(input_data)\n",
    "\n",
    "    # Match columns\n",
    "    missing_cols = set(X_train.columns) - set(input_data.columns)\n",
    "    for col in missing_cols:\n",
    "        input_data[col] = 0\n",
    "    input_data = input_data[X_train.columns]\n",
    "\n",
    "    prediction = model.predict(input_data)\n",
    "    print(f\"Loan Prediction: {'Approved' if prediction[0] == 'Y' else 'Rejected'}\")\n",
    "\n",
    "get_user_input()\n"
   ]
  }
 ],
 "metadata": {
  "kernelspec": {
   "display_name": "Python 3",
   "language": "python",
   "name": "python3"
  },
  "language_info": {
   "codemirror_mode": {
    "name": "ipython",
    "version": 3
   },
   "file_extension": ".py",
   "mimetype": "text/x-python",
   "name": "python",
   "nbconvert_exporter": "python",
   "pygments_lexer": "ipython3",
   "version": "3.12.4"
  }
 },
 "nbformat": 4,
 "nbformat_minor": 4
}
